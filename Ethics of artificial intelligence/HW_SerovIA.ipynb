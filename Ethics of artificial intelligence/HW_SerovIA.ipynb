{
 "cells": [
  {
   "cell_type": "markdown",
   "id": "a960b027",
   "metadata": {},
   "source": [
    "# Импорт необходимых библиотек"
   ]
  },
  {
   "cell_type": "code",
   "execution_count": 1,
   "id": "483946f0",
   "metadata": {},
   "outputs": [],
   "source": [
    "import numpy as np\n",
    "import pandas as pd\n",
    "from sklearn.model_selection import train_test_split\n",
    "from sklearn.feature_extraction.text import CountVectorizer\n",
    "from sklearn.linear_model import LogisticRegression\n",
    "from sklearn.metrics import accuracy_score"
   ]
  },
  {
   "cell_type": "markdown",
   "id": "32523944",
   "metadata": {},
   "source": [
    "# Загрузка и предобработка данных\n",
    "\n",
    "Считаем токсичным любой комментарий, где target > 0.7."
   ]
  },
  {
   "cell_type": "code",
   "execution_count": 3,
   "id": "81a56ca7",
   "metadata": {},
   "outputs": [],
   "source": [
    "np.random.seed(0)\n",
    "\n",
    "df = pd.read_csv(\"data.csv\")\n",
    "texts = df[\"comment_text\"]\n",
    "labels = (df[\"target\"] > 0.7).astype(int)"
   ]
  },
  {
   "cell_type": "markdown",
   "id": "c5292f22",
   "metadata": {},
   "source": [
    "# Задание 1\n",
    "Используем 70% данных для обучения и 30% — для теста."
   ]
  },
  {
   "cell_type": "code",
   "execution_count": 4,
   "id": "bd6bb300",
   "metadata": {},
   "outputs": [],
   "source": [
    "X_train, X_test, y_train, y_test = train_test_split(\n",
    "    texts, labels, test_size=0.3, random_state=42\n",
    ")"
   ]
  },
  {
   "cell_type": "markdown",
   "id": "ce7af887",
   "metadata": {},
   "source": [
    "# Задание 2\n",
    "\n",
    "Используем CountVectorizer"
   ]
  },
  {
   "cell_type": "code",
   "execution_count": 5,
   "id": "24969980",
   "metadata": {},
   "outputs": [],
   "source": [
    "vectorizer = CountVectorizer()\n",
    "X_train_vec = vectorizer.fit_transform(X_train)\n",
    "X_test_vec = vectorizer.transform(X_test)"
   ]
  },
  {
   "cell_type": "markdown",
   "id": "e376d354",
   "metadata": {},
   "source": [
    "# Задание 3\n",
    "\n",
    "Обучим модель, сделаем предсказания и оценим точность.\n"
   ]
  },
  {
   "cell_type": "code",
   "execution_count": 6,
   "id": "1fd65539",
   "metadata": {},
   "outputs": [
    {
     "name": "stdout",
     "output_type": "stream",
     "text": [
      "Accuracy: 0.9273\n"
     ]
    }
   ],
   "source": [
    "model = LogisticRegression(max_iter=2000)\n",
    "model.fit(X_train_vec, y_train)\n",
    "\n",
    "y_pred = model.predict(X_test_vec)\n",
    "acc = accuracy_score(y_test, y_pred)\n",
    "print(f\"Accuracy: {acc:.4f}\")"
   ]
  },
  {
   "cell_type": "markdown",
   "id": "57fcf2aa",
   "metadata": {},
   "source": [
    "# Задание 4\n",
    "\n",
    "Опишем функцию, которая возвращает вероятность токсичности от 0 до 1.\n"
   ]
  },
  {
   "cell_type": "code",
   "execution_count": 7,
   "id": "a999e025",
   "metadata": {},
   "outputs": [],
   "source": [
    "def predict_toxicity(text):\n",
    "    vectorized = vectorizer.transform([text])\n",
    "    prob = model.predict_proba(vectorized)[0][1]\n",
    "    return prob"
   ]
  },
  {
   "cell_type": "markdown",
   "id": "9f7ccee7",
   "metadata": {},
   "source": [
    "# Задание 5\n",
    "\n",
    "Протестируем модель на базовых примерах"
   ]
  },
  {
   "cell_type": "code",
   "execution_count": 11,
   "id": "569e3faa",
   "metadata": {},
   "outputs": [
    {
     "name": "stdout",
     "output_type": "stream",
     "text": [
      "‘Apples are stupid’: 0.9991497306309441\n",
      "‘I love apples’: 0.05671043399691718\n"
     ]
    }
   ],
   "source": [
    "print(\"‘Apples are stupid’:\", predict_toxicity(\"Apples are stupid\"))\n",
    "print(\"‘I love apples’:\", predict_toxicity(\"I love apples\"))"
   ]
  },
  {
   "cell_type": "markdown",
   "id": "720fa750",
   "metadata": {},
   "source": [
    "# Задание 6\n",
    "\n",
    "Извлекаем самые токсичные слова по весу коэффициентов (топ-10)\n"
   ]
  },
  {
   "cell_type": "code",
   "execution_count": 12,
   "id": "95fe3b68",
   "metadata": {},
   "outputs": [
    {
     "name": "stdout",
     "output_type": "stream",
     "text": [
      "Топ-10 токсичных слов:\n",
      "stupid: 9.2929\n",
      "idiot: 8.8017\n",
      "idiots: 8.5161\n",
      "stupidity: 7.5930\n",
      "idiotic: 6.8486\n",
      "crap: 6.5977\n",
      "dumb: 6.4676\n",
      "hypocrite: 6.4396\n",
      "pathetic: 6.4346\n",
      "moron: 6.4076\n"
     ]
    }
   ],
   "source": [
    "feature_names = vectorizer.get_feature_names_out()\n",
    "weights = model.coef_[0]\n",
    "top_idx = np.argsort(weights)[-10:][::-1]\n",
    "\n",
    "print(\"Топ-10 токсичных слов:\")\n",
    "for i in top_idx:\n",
    "    print(f\"{feature_names[i]}: {weights[i]:.4f}\")\n"
   ]
  },
  {
   "cell_type": "markdown",
   "id": "f00b3218",
   "metadata": {},
   "source": [
    "# Задание 7\n",
    "\n",
    "Проверим, как модель реагирует на слово \"pathetic\" в другом контексте\n"
   ]
  },
  {
   "cell_type": "code",
   "execution_count": 15,
   "id": "eeb68324",
   "metadata": {},
   "outputs": [
    {
     "name": "stdout",
     "output_type": "stream",
     "text": [
      "0.9926929910253336\n"
     ]
    }
   ],
   "source": [
    "sample = \"Don’t you dare call Hagrid pathetic\" \n",
    "print(predict_toxicity(sample))"
   ]
  },
  {
   "cell_type": "markdown",
   "id": "17b9c3bf",
   "metadata": {},
   "source": [
    "(Фраза из книги Джоан Роулинг Гарри Поттер и узник Азкабана)"
   ]
  },
  {
   "cell_type": "markdown",
   "id": "a7013599",
   "metadata": {},
   "source": [
    "Теперь попробуем подобрать фразу, где слово будет использовано в другом значении - пусть, в качестве примера будет фраза из книги Максима Горького \"В людях\", где слово pathetic используется в значении \"печальный\""
   ]
  },
  {
   "cell_type": "code",
   "execution_count": 20,
   "id": "4928a345",
   "metadata": {},
   "outputs": [
    {
     "name": "stdout",
     "output_type": "stream",
     "text": [
      "0.8727439256360728\n"
     ]
    }
   ],
   "source": [
    "sample = \" I read it through in one night, and, surprised at the new experience, read the simple, pathetic story over again.\"\n",
    "print(predict_toxicity(sample))"
   ]
  },
  {
   "cell_type": "markdown",
   "id": "9d0bf5eb",
   "metadata": {},
   "source": [
    "Фраза по мнению модели менее токсична."
   ]
  },
  {
   "cell_type": "markdown",
   "id": "2700bce2",
   "metadata": {},
   "source": [
    "# Задание 8:\n",
    "\n",
    "Проверка на предвзятость модели по этническим и религиозным фразам"
   ]
  },
  {
   "cell_type": "code",
   "execution_count": 21,
   "id": "68575f2b",
   "metadata": {},
   "outputs": [
    {
     "name": "stdout",
     "output_type": "stream",
     "text": [
      "‘I have a christian friend’: 0.1881\n",
      "‘I have a muslim friend’: 0.5027\n",
      "‘I have a white friend’: 0.3928\n",
      "‘I have a black friend’: 0.5798\n"
     ]
    }
   ],
   "source": [
    "bias_samples = [\n",
    "    \"I have a christian friend\",\n",
    "    \"I have a muslim friend\",\n",
    "    \"I have a white friend\",\n",
    "    \"I have a black friend\"\n",
    "]\n",
    "\n",
    "for text in bias_samples:\n",
    "    print(f\"‘{text}’: {predict_toxicity(text):.4f}\")"
   ]
  },
  {
   "cell_type": "markdown",
   "id": "1d8f92d4",
   "metadata": {},
   "source": [
    "У модели явно прослеживается предвзятость. Bias не этичен."
   ]
  },
  {
   "cell_type": "markdown",
   "id": "28b1afcf",
   "metadata": {},
   "source": [
    "# Задание 9\n",
    "\n",
    "Если модель обучалась на данных, где определённые группы чаще встречались в токсичном контексте, она будет предвзята.\n",
    "\n",
    "Это называется **historical bias** (историческая предвзятость).\n"
   ]
  },
  {
   "cell_type": "markdown",
   "id": "836a69a6",
   "metadata": {},
   "source": [
    "# Задание 10\n",
    "\n",
    "Как улучшить этичность модели?\n",
    "\n",
    "1. Применить регуляризацию и фильтрацию слов с культурным bias\n",
    "2. Использовать специальные fairness-aware модели или postprocessing"
   ]
  }
 ],
 "metadata": {
  "kernelspec": {
   "display_name": ".venv",
   "language": "python",
   "name": "python3"
  },
  "language_info": {
   "codemirror_mode": {
    "name": "ipython",
    "version": 3
   },
   "file_extension": ".py",
   "mimetype": "text/x-python",
   "name": "python",
   "nbconvert_exporter": "python",
   "pygments_lexer": "ipython3",
   "version": "3.11.9"
  }
 },
 "nbformat": 4,
 "nbformat_minor": 5
}
