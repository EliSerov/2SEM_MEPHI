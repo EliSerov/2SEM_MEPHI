{
 "cells": [
  {
   "cell_type": "markdown",
   "id": "ab725d37",
   "metadata": {},
   "source": [
    "**Логистическая регрессия**"
   ]
  },
  {
   "cell_type": "markdown",
   "id": "be3d0648",
   "metadata": {},
   "source": [
    "*Импортируем необходимые библиотеки*"
   ]
  },
  {
   "cell_type": "code",
   "execution_count": 1,
   "id": "c2a270ae",
   "metadata": {},
   "outputs": [],
   "source": [
    "import numpy as np\n",
    "import matplotlib.pyplot as plt"
   ]
  },
  {
   "cell_type": "markdown",
   "id": "28fc31bb",
   "metadata": {},
   "source": [
    "*Добавим сигмоиду (для удобства запишем ее отдельно как функцию)*"
   ]
  },
  {
   "cell_type": "code",
   "execution_count": 2,
   "id": "f1766798",
   "metadata": {},
   "outputs": [],
   "source": [
    "def sigmoid(z):\n",
    "    return 1 / (1 + np.exp(-z))"
   ]
  },
  {
   "cell_type": "markdown",
   "id": "9c93018b",
   "metadata": {},
   "source": [
    "*Для расчета параметров градиента и значения функции потерь добавим функцию log_loss*"
   ]
  },
  {
   "cell_type": "code",
   "execution_count": 3,
   "id": "e720dfa4",
   "metadata": {},
   "outputs": [],
   "source": [
    "def log_loss(w, X, y):\n",
    "\n",
    "    m = X.shape[0]\n",
    "    z = X @ w\n",
    "    y_hat = sigmoid(z)\n",
    "\n",
    "    loss = -np.mean(y * np.log(y_hat) + (1 - y) * np.log(1 - y_hat))\n",
    "    grad = X.T @ (y_hat - y) / m\n",
    "\n",
    "    return loss, grad"
   ]
  },
  {
   "cell_type": "markdown",
   "id": "9a6e202a",
   "metadata": {},
   "source": [
    "*Добавим функцию optimize для обновления весов с использованием градиентного спуска и записи значений функции потерь на каждой итерации*"
   ]
  },
  {
   "cell_type": "code",
   "execution_count": 4,
   "id": "3fdc6e22",
   "metadata": {},
   "outputs": [],
   "source": [
    "def optimize(w, X, y, n_iterations=1000, eta=0.1):\n",
    "    losses = []\n",
    "    for _ in range(n_iterations):\n",
    "        loss, grad = log_loss(w, X, y)\n",
    "        w -= eta * grad\n",
    "        losses.append(loss)\n",
    "\n",
    "    return w, losses"
   ]
  },
  {
   "cell_type": "markdown",
   "id": "c3c2388e",
   "metadata": {},
   "source": [
    "*Добавим функцию predict для вычисления вероятности классов с помощью сигмоиды*\n",
    "\n",
    "*Она присваивает класс 1, если вероятность выше порога b=0.5, иначе — 0*"
   ]
  },
  {
   "cell_type": "code",
   "execution_count": 5,
   "id": "237938fd",
   "metadata": {},
   "outputs": [],
   "source": [
    "def predict(w, X, threshold=0.5):\n",
    "    probs = sigmoid(X @ w)\n",
    "    return (probs >= threshold).astype(int)\n"
   ]
  },
  {
   "cell_type": "markdown",
   "id": "03647374",
   "metadata": {},
   "source": [
    "*Создаем случайные данные, добавляем смещение и обучаем модель*"
   ]
  },
  {
   "cell_type": "code",
   "execution_count": 6,
   "id": "dec1dfe5",
   "metadata": {},
   "outputs": [],
   "source": [
    "np.random.seed(0)\n",
    "n_samples = 100\n",
    "X = np.random.randn(n_samples, 2)\n",
    "true_w = np.array([2, -3])\n",
    "y = (sigmoid(X @ true_w + 0.5) > 0.5).astype(int)\n",
    "\n",
    "X_b = np.hstack([np.ones((X.shape[0], 1)), X])\n",
    "w_init = np.zeros(X_b.shape[1])\n",
    "\n",
    "w_trained, losses = optimize(w_init, X_b, y, n_iterations=1000, eta=0.1)"
   ]
  },
  {
   "cell_type": "markdown",
   "id": "396483b6",
   "metadata": {},
   "source": [
    "*Визуализируем функцию потерь (в данном случае она логарифмическая), а также отобразим результаты accuracy:*"
   ]
  },
  {
   "cell_type": "code",
   "execution_count": 7,
   "id": "e8d46513",
   "metadata": {},
   "outputs": [
    {
     "data": {
      "image/png": "[encoded data removed]",
      "text/plain": [
       "<Figure size 640x480 with 1 Axes>"
      ]
     },
     "metadata": {},
     "output_type": "display_data"
    },
    {
     "name": "stdout",
     "output_type": "stream",
     "text": [
      "Точность: 1.0000\n"
     ]
    }
   ],
   "source": [
    "plt.plot(losses)\n",
    "plt.xlabel(\"Итерация\")\n",
    "plt.ylabel(\"Log Loss\")\n",
    "plt.grid(True)\n",
    "plt.title(\"Логарифмическая функция потерь\")\n",
    "plt.show()\n",
    "\n",
    "y_pred = predict(w_trained, X_b)\n",
    "accuracy = np.mean(y_pred == y)\n",
    "print(f\"Точность: {accuracy:.4f}\")"
   ]
  },
  {
   "cell_type": "markdown",
   "id": "bd4be3ba",
   "metadata": {},
   "source": [
    "**Ответы на дополнительные вопросы:**"
   ]
  },
  {
   "cell_type": "markdown",
   "id": "2f22add3",
   "metadata": {},
   "source": [
    "Вопрос 1\n",
    "\n",
    "*Как влияет размер шага (eta) на сходимость алгоритма?*\n",
    "\n",
    "\n",
    "Ответ:\n",
    "\n",
    "*Маленька eta замедляет обучение, а если eta большая, то это может привести к расходимости градиентного спуска (ошибка растёт вместо уменьшения)*\n",
    "\n",
    "---\n",
    "\n",
    "Вопрос 2\n",
    "\n",
    "*Что произойдет, если выбрать слишком маленькое или слишком большое количество итераций (n_iterations)?*\n",
    "\n",
    "\n",
    "Ответ:\n",
    "\n",
    "*Маленькое количество - модель не дообучится (ошибка будет по-прежнему высокой), а если оличество большое, то это может привести переобучению*\n",
    "\n",
    "---\n",
    "\n",
    "Вопрос 3\n",
    "\n",
    "*Почему логистическая регрессия подходит для задач только бинарной классификации?*\n",
    "\n",
    "\n",
    "Ответ:\n",
    "\n",
    "*Сигмоидная функция, используемая в логистической регрессии, преобразует значение скалярного произведения признаков и весов в диапазон [0, 1].*\n",
    "\n",
    "*Это значение интерпретируется как вероятность принадлежности объекта к одному из двух классов — 1 или 0.*\n",
    "\n",
    "*Таким образом, логистическая регрессия изначально предназначена для бинарной классификации.*"
   ]
  }
 ],
 "metadata": {
  "kernelspec": {
   "display_name": ".venv",
   "language": "python",
   "name": "python3"
  },
  "language_info": {
   "codemirror_mode": {
    "name": "ipython",
    "version": 3
   },
   "file_extension": ".py",
   "mimetype": "text/x-python",
   "name": "python",
   "nbconvert_exporter": "python",
   "pygments_lexer": "ipython3",
   "version": "3.11.9"
  }
 },
 "nbformat": 4,
 "nbformat_minor": 5
}
