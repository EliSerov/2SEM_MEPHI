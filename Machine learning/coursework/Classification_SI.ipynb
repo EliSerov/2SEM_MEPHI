{
 "cells": [
  {
   "cell_type": "markdown",
   "id": "e1249ff7",
   "metadata": {},
   "source": [
    "# Пункт 7. #"
   ]
  },
  {
   "cell_type": "markdown",
   "id": "c2a817bc",
   "metadata": {},
   "source": [
    "**Импорт библиотек**"
   ]
  },
  {
   "cell_type": "code",
   "execution_count": 1,
   "id": "16dfac64",
   "metadata": {},
   "outputs": [],
   "source": [
    "import pandas as pd\n",
    "import numpy as np\n",
    "from sklearn.model_selection import train_test_split, GridSearchCV\n",
    "from sklearn.preprocessing import StandardScaler\n",
    "from sklearn.linear_model import LogisticRegression\n",
    "from sklearn.ensemble import RandomForestClassifier\n",
    "from sklearn.metrics import accuracy_score, roc_auc_score, classification_report, f1_score, confusion_matrix, ConfusionMatrixDisplay\n",
    "\n",
    "from sklearn.svm import SVC  \n",
    "import matplotlib.pyplot as plt"
   ]
  },
  {
   "cell_type": "markdown",
   "id": "5aa206ff",
   "metadata": {},
   "source": [
    "**Формирование признаков и целевой переменной**"
   ]
  },
  {
   "cell_type": "code",
   "execution_count": 2,
   "id": "44541e9c",
   "metadata": {},
   "outputs": [],
   "source": [
    "df = pd.read_excel('data/course_data_clean_log.xlsx')\n",
    "si_median = df['SI'].median()\n",
    "df['SI_above_median'] = (df['SI'] > si_median).astype(int)\n",
    "\n",
    "drop_cols = ['IC50, mM', 'CC50, mM', 'SI', 'log_IC50', 'log_CC50', 'log_SI', 'SI_above_median']\n",
    "X = df.drop(columns=drop_cols, errors='ignore')\n",
    "y = df['SI_above_median']"
   ]
  },
  {
   "cell_type": "markdown",
   "id": "cd9237fa",
   "metadata": {},
   "source": [
    "**Разделение данных на обучающую и тестовую выборки**"
   ]
  },
  {
   "cell_type": "code",
   "execution_count": 3,
   "id": "8358ccc0",
   "metadata": {},
   "outputs": [],
   "source": [
    "X_train, X_test, y_train, y_test = train_test_split(X, y, test_size=0.2, random_state=42, stratify=y)"
   ]
  },
  {
   "cell_type": "markdown",
   "id": "70e26c2b",
   "metadata": {},
   "source": [
    "**Подготовка к обучению логистической регрессии SVC и Random Forest**"
   ]
  },
  {
   "cell_type": "code",
   "execution_count": 4,
   "id": "9b8e583a",
   "metadata": {},
   "outputs": [],
   "source": [
    "scaler = StandardScaler()\n",
    "X_train_scaled = scaler.fit_transform(X_train)\n",
    "X_test_scaled = scaler.transform(X_test)"
   ]
  },
  {
   "cell_type": "code",
   "execution_count": 5,
   "id": "db1261ad",
   "metadata": {},
   "outputs": [],
   "source": [
    "models = {\n",
    "    'LogisticRegression': (\n",
    "        LogisticRegression(max_iter=2000, random_state=42),\n",
    "        {'C': [0.01, 0.1, 1, 10, 100]}\n",
    "    ),\n",
    "    'RandomForestClassifier': (\n",
    "        RandomForestClassifier(random_state=42),\n",
    "        {'n_estimators': [100, 200], 'max_depth': [5, 10, None], 'min_samples_leaf': [1, 3, 5]}\n",
    "    ),\n",
    "    'SVC': (\n",
    "        SVC(probability=True, random_state=42),\n",
    "        {'C': [0.1, 1, 10], 'gamma': ['scale', 'auto'], 'kernel': ['rbf', 'linear']}\n",
    "    )\n",
    "}\n",
    "\n",
    "results = {}"
   ]
  },
  {
   "cell_type": "markdown",
   "id": "f8d220d3",
   "metadata": {},
   "source": [
    "**Обучение, визуализация метрик и поиск лучшей модели**"
   ]
  },
  {
   "cell_type": "code",
   "execution_count": 6,
   "id": "b6e2ab55",
   "metadata": {},
   "outputs": [
    {
     "name": "stdout",
     "output_type": "stream",
     "text": [
      "\n",
      "=== LogisticRegression ===\n",
      "Лучшие параметры: {'C': 0.1}\n",
      "Accuracy: 0.617, F1: 0.609, ROC AUC: 0.643\n",
      "\n",
      "=== RandomForestClassifier ===\n",
      "Лучшие параметры: {'max_depth': None, 'min_samples_leaf': 3, 'n_estimators': 200}\n",
      "Accuracy: 0.667, F1: 0.646, ROC AUC: 0.688\n",
      "\n",
      "=== SVC ===\n",
      "Лучшие параметры: {'C': 1, 'gamma': 'scale', 'kernel': 'rbf'}\n",
      "Accuracy: 0.677, F1: 0.620, ROC AUC: 0.731\n"
     ]
    }
   ],
   "source": [
    "for name, (model, params) in models.items():\n",
    "    print(f'\\n=== {name} ===')\n",
    "    grid = GridSearchCV(model, params, cv=5, scoring='roc_auc', n_jobs=-1)\n",
    "    grid.fit(X_train_scaled, y_train)\n",
    "    print(\"Лучшие параметры:\", grid.best_params_)\n",
    "    y_pred = grid.predict(X_test_scaled)\n",
    "    y_proba = grid.predict_proba(X_test_scaled)[:, 1] if hasattr(grid, \"predict_proba\") else None\n",
    "\n",
    "    acc = accuracy_score(y_test, y_pred)\n",
    "    f1 = f1_score(y_test, y_pred)\n",
    "    roc_auc = roc_auc_score(y_test, y_proba if y_proba is not None else y_pred)\n",
    "    print(f'Accuracy: {acc:.3f}, F1: {f1:.3f}, ROC AUC: {roc_auc:.3f}')\n",
    "\n",
    "    results[name] = {\n",
    "        'model': grid.best_estimator_,\n",
    "        'acc': acc,\n",
    "        'f1': f1,\n",
    "        'roc_auc': roc_auc,\n",
    "        'y_pred': y_pred,\n",
    "        'y_proba': y_proba\n",
    "    }"
   ]
  },
  {
   "cell_type": "code",
   "execution_count": 7,
   "id": "98fd1485",
   "metadata": {},
   "outputs": [
    {
     "data": {
      "image/png": "[encoded data removed]",
      "text/plain": [
       "<Figure size 800x400 with 1 Axes>"
      ]
     },
     "metadata": {},
     "output_type": "display_data"
    }
   ],
   "source": [
    "fig, ax = plt.subplots(figsize=(8, 4))\n",
    "names = list(results.keys())\n",
    "roc_aucs = [results[n]['roc_auc'] for n in names]\n",
    "f1s = [results[n]['f1'] for n in names]\n",
    "accs = [results[n]['acc'] for n in names]\n",
    "\n",
    "x = np.arange(len(names))\n",
    "width = 0.25\n",
    "\n",
    "ax.bar(x - width, accs, width, label='Accuracy')\n",
    "ax.bar(x, f1s, width, label='F1')\n",
    "ax.bar(x + width, roc_aucs, width, label='ROC AUC')\n",
    "ax.set_xticks(x)\n",
    "ax.set_xticklabels(names)\n",
    "ax.set_ylabel('Score')\n",
    "ax.set_title('Метрики качества по моделям')\n",
    "ax.legend()\n",
    "plt.tight_layout()\n",
    "plt.show()"
   ]
  },
  {
   "cell_type": "code",
   "execution_count": 8,
   "id": "074a7504",
   "metadata": {},
   "outputs": [
    {
     "name": "stdout",
     "output_type": "stream",
     "text": [
      "Лучшая модель: SVC\n",
      "\n",
      "Classification report:\n",
      "              precision    recall  f1-score   support\n",
      "\n",
      "           0      0.638     0.822     0.719       101\n",
      "           1      0.746     0.530     0.620       100\n",
      "\n",
      "    accuracy                          0.677       201\n",
      "   macro avg      0.692     0.676     0.669       201\n",
      "weighted avg      0.692     0.677     0.669       201\n",
      "\n",
      "Confusion matrix:\n"
     ]
    },
    {
     "data": {
      "image/png": "[encoded data removed]",
      "text/plain": [
       "<Figure size 640x480 with 2 Axes>"
      ]
     },
     "metadata": {},
     "output_type": "display_data"
    }
   ],
   "source": [
    "best_model_key = max(results, key=lambda x: results[x]['roc_auc'])\n",
    "best_model = results[best_model_key]['model']\n",
    "y_pred_best = results[best_model_key]['y_pred']\n",
    "\n",
    "print(f'Лучшая модель: {best_model_key}')\n",
    "print('\\nClassification report:')\n",
    "print(classification_report(y_test, y_pred_best, digits=3))\n",
    "\n",
    "print('Confusion matrix:')\n",
    "cm = confusion_matrix(y_test, y_pred_best)\n",
    "disp = ConfusionMatrixDisplay(confusion_matrix=cm)\n",
    "disp.plot(cmap='Blues')\n",
    "plt.title(f'Confusion Matrix — {best_model_key}')\n",
    "plt.show()"
   ]
  }
 ],
 "metadata": {
  "kernelspec": {
   "display_name": ".venv",
   "language": "python",
   "name": "python3"
  },
  "language_info": {
   "codemirror_mode": {
    "name": "ipython",
    "version": 3
   },
   "file_extension": ".py",
   "mimetype": "text/x-python",
   "name": "python",
   "nbconvert_exporter": "python",
   "pygments_lexer": "ipython3",
   "version": "3.11.9"
  }
 },
 "nbformat": 4,
 "nbformat_minor": 5
}
