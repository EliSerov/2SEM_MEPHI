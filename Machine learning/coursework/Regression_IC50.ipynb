{
 "cells": [
  {
   "cell_type": "markdown",
   "id": "3f64571e",
   "metadata": {},
   "source": [
    "# Пункт 2 #"
   ]
  },
  {
   "cell_type": "markdown",
   "id": "54775c38",
   "metadata": {},
   "source": [
    "**Импорт библиотек**"
   ]
  },
  {
   "cell_type": "code",
   "execution_count": 1,
   "id": "16dfac64",
   "metadata": {},
   "outputs": [
    {
     "name": "stdout",
     "output_type": "stream",
     "text": [
      "(1001, 163)\n",
      "После удаления дубликатов: (969, 163)\n"
     ]
    }
   ],
   "source": [
    "import pandas as pd\n",
    "import numpy as np\n",
    "from sklearn.model_selection import train_test_split\n",
    "from sklearn.linear_model import LinearRegression\n",
    "from sklearn.metrics import r2_score, mean_absolute_error, mean_squared_error\n",
    "\n",
    "df = pd.read_excel('data/course_data_clean_log.xlsx')\n",
    "print(df.shape)\n",
    "df = df.drop_duplicates()\n",
    "print('После удаления дубликатов:', df.shape)"
   ]
  },
  {
   "cell_type": "markdown",
   "id": "874aab50",
   "metadata": {},
   "source": [
    "**Формирование признаков и целевой переменной**"
   ]
  },
  {
   "cell_type": "code",
   "execution_count": 2,
   "id": "8358ccc0",
   "metadata": {},
   "outputs": [],
   "source": [
    "target = 'log_IC50'\n",
    "drop_cols = ['IC50, mM', 'CC50, mM', 'SI', 'log_IC50', 'log_CC50', 'log_SI']\n",
    "X = df.drop(columns=drop_cols, errors='ignore')\n",
    "y = df[target]"
   ]
  },
  {
   "cell_type": "markdown",
   "id": "2e9c4af1",
   "metadata": {},
   "source": [
    "**Разделение данных на обучающую и тестовую выборки**"
   ]
  },
  {
   "cell_type": "code",
   "execution_count": 3,
   "id": "9b8e583a",
   "metadata": {},
   "outputs": [],
   "source": [
    "X_train, X_test, y_train, y_test = train_test_split(X, y, test_size=0.1, random_state=42)\n",
    "results = {}"
   ]
  },
  {
   "cell_type": "markdown",
   "id": "f8d16efd",
   "metadata": {},
   "source": [
    "**Простая линейная регрессия**"
   ]
  },
  {
   "cell_type": "code",
   "execution_count": 4,
   "id": "7bd8814a",
   "metadata": {},
   "outputs": [
    {
     "name": "stdout",
     "output_type": "stream",
     "text": [
      "LinearRegression:\n",
      "R2: 0.2804677590983279\n",
      "MAE: 1.3748363628238869\n",
      "RMSE: 1.7021039447102135\n"
     ]
    }
   ],
   "source": [
    "lr = LinearRegression()\n",
    "lr.fit(X_train, y_train)\n",
    "y_pred = lr.predict(X_test)\n",
    "\n",
    "print('LinearRegression:')\n",
    "print('R2:', r2_score(y_test, y_pred))\n",
    "print('MAE:', mean_absolute_error(y_test, y_pred))\n",
    "print('RMSE:', np.sqrt(mean_squared_error(y_test, y_pred)))\n",
    "\n",
    "results['LinearRegression'] = {\n",
    "    'R2': r2_score(y_test, y_pred),\n",
    "    'MAE': mean_absolute_error(y_test, y_pred),\n",
    "    'RMSE': np.sqrt(mean_squared_error(y_test, y_pred)),\n",
    "}"
   ]
  },
  {
   "cell_type": "markdown",
   "id": "52c34a1b",
   "metadata": {},
   "source": [
    "**Подготовка к обучению регуляризованных моделей и Random Forest**"
   ]
  },
  {
   "cell_type": "code",
   "execution_count": 5,
   "id": "a9550e86",
   "metadata": {},
   "outputs": [],
   "source": [
    "from sklearn.model_selection import GridSearchCV\n",
    "from sklearn.linear_model import Ridge, Lasso\n",
    "from sklearn.ensemble import RandomForestRegressor\n",
    "\n",
    "from sklearn.preprocessing import StandardScaler\n",
    "scaler = StandardScaler()\n",
    "X_train_scaled = scaler.fit_transform(X_train)\n",
    "X_test_scaled = scaler.transform(X_test)"
   ]
  },
  {
   "cell_type": "code",
   "execution_count": 6,
   "id": "9ec15fbc",
   "metadata": {},
   "outputs": [
    {
     "name": "stdout",
     "output_type": "stream",
     "text": [
      "R2 Ridge: 0.393996031101267\n",
      "MAE: 1.329938109765726\n",
      "RMSE: 1.5620634949090113\n"
     ]
    }
   ],
   "source": [
    "ridge_params = {'alpha': [0.01, 0.1, 1, 10, 100]}\n",
    "ridge = Ridge()\n",
    "ridge_grid = GridSearchCV(ridge, ridge_params, cv=5, scoring='r2', n_jobs=-1)\n",
    "ridge_grid.fit(X_train_scaled, y_train)\n",
    "y_pred = ridge_grid.predict(X_test_scaled)\n",
    "\n",
    "print('R2 Ridge:', r2_score(y_test, y_pred))\n",
    "print('MAE:', mean_absolute_error(y_test, y_pred))\n",
    "print('RMSE:', np.sqrt(mean_squared_error(y_test, y_pred)))\n",
    "\n",
    "results['Ridge'] = {\n",
    "    'R2': r2_score(y_test, y_pred),\n",
    "    'MAE': mean_absolute_error(y_test, y_pred),\n",
    "    'RMSE': np.sqrt(mean_squared_error(y_test, y_pred)),\n",
    "}"
   ]
  },
  {
   "cell_type": "code",
   "execution_count": 7,
   "id": "3ddceeff",
   "metadata": {},
   "outputs": [
    {
     "name": "stdout",
     "output_type": "stream",
     "text": [
      "R2 Lasso: 0.4156655843434195\n",
      "MAE: 1.3011595625189418\n",
      "RMSE: 1.5338810489665378\n"
     ]
    }
   ],
   "source": [
    "lasso_params = {'alpha': [0.01, 0.1, 1, 10, 100]}\n",
    "lasso = Lasso(max_iter=5000)\n",
    "lasso_grid = GridSearchCV(lasso, lasso_params, cv=5, scoring='r2', n_jobs=-1)\n",
    "lasso_grid.fit(X_train_scaled, y_train)\n",
    "y_pred = lasso_grid.predict(X_test_scaled)\n",
    "\n",
    "print('R2 Lasso:', r2_score(y_test, y_pred))\n",
    "print('MAE:', mean_absolute_error(y_test, y_pred))\n",
    "print('RMSE:', np.sqrt(mean_squared_error(y_test, y_pred)))\n",
    "\n",
    "results['Lasso'] = {\n",
    "    'R2': r2_score(y_test, y_pred),\n",
    "    'MAE': mean_absolute_error(y_test, y_pred),\n",
    "    'RMSE': np.sqrt(mean_squared_error(y_test, y_pred)),\n",
    "}"
   ]
  },
  {
   "cell_type": "code",
   "execution_count": 8,
   "id": "fbb1812b",
   "metadata": {},
   "outputs": [
    {
     "name": "stdout",
     "output_type": "stream",
     "text": [
      "R2 RF: 0.465755653318072\n",
      "MAE: 1.1727658996986565\n",
      "RMSE: 1.4666649603061588\n"
     ]
    }
   ],
   "source": [
    "rf_params = {\n",
    "    'n_estimators': [100, 200],\n",
    "    'max_depth': [None, 5, 10],\n",
    "    'min_samples_leaf': [1, 3, 5]\n",
    "}\n",
    "rf = RandomForestRegressor(random_state=42)\n",
    "rf_grid = GridSearchCV(rf, rf_params, cv=3, scoring='r2', n_jobs=-1)\n",
    "rf_grid.fit(X_train, y_train)\n",
    "y_pred = rf_grid.predict(X_test)\n",
    "\n",
    "print('R2 RF:', r2_score(y_test, y_pred))\n",
    "print('MAE:', mean_absolute_error(y_test, y_pred))\n",
    "print('RMSE:', np.sqrt(mean_squared_error(y_test, y_pred)))\n",
    "\n",
    "results['RandomForest'] = {\n",
    "    'R2': r2_score(y_test, y_pred),\n",
    "    'MAE': mean_absolute_error(y_test, y_pred),\n",
    "    'RMSE': np.sqrt(mean_squared_error(y_test, y_pred)),\n",
    "}"
   ]
  },
  {
   "cell_type": "markdown",
   "id": "45dcdb99",
   "metadata": {},
   "source": [
    "**Сравнение моделей по основным метрикам и визуализация**"
   ]
  },
  {
   "cell_type": "code",
   "execution_count": 9,
   "id": "0f47add1",
   "metadata": {},
   "outputs": [
    {
     "name": "stderr",
     "output_type": "stream",
     "text": [
      "C:\\Users\\Eli\\AppData\\Local\\Temp\\ipykernel_892\\154262703.py:13: UserWarning: set_ticklabels() should only be used with a fixed number of ticks, i.e. after set_ticks() or using a FixedLocator.\n",
      "  axes[i].set_xticklabels(df_results.index, rotation=15)\n",
      "C:\\Users\\Eli\\AppData\\Local\\Temp\\ipykernel_892\\154262703.py:13: UserWarning: set_ticklabels() should only be used with a fixed number of ticks, i.e. after set_ticks() or using a FixedLocator.\n",
      "  axes[i].set_xticklabels(df_results.index, rotation=15)\n",
      "C:\\Users\\Eli\\AppData\\Local\\Temp\\ipykernel_892\\154262703.py:13: UserWarning: set_ticklabels() should only be used with a fixed number of ticks, i.e. after set_ticks() or using a FixedLocator.\n",
      "  axes[i].set_xticklabels(df_results.index, rotation=15)\n"
     ]
    },
    {
     "data": {
      "image/png": "[encoded data removed]",
      "text/plain": [
       "<Figure size 1500x400 with 3 Axes>"
      ]
     },
     "metadata": {},
     "output_type": "display_data"
    }
   ],
   "source": [
    "import pandas as pd\n",
    "import matplotlib.pyplot as plt\n",
    "\n",
    "df_results = pd.DataFrame(results).T  \n",
    "\n",
    "fig, axes = plt.subplots(1, 3, figsize=(15, 4))\n",
    "metrics = ['R2', 'MAE', 'RMSE']\n",
    "\n",
    "for i, metric in enumerate(metrics):\n",
    "    axes[i].bar(df_results.index, df_results[metric], color='skyblue')\n",
    "    axes[i].set_title(metric)\n",
    "    axes[i].set_ylabel(metric)\n",
    "    axes[i].set_xticklabels(df_results.index, rotation=15)\n",
    "    for x, y in enumerate(df_results[metric]):\n",
    "        axes[i].text(x, y, f\"{y:.3f}\", ha='center', va='bottom', fontsize=10)\n",
    "\n",
    "plt.tight_layout()\n",
    "plt.show()"
   ]
  },
  {
   "cell_type": "markdown",
   "id": "18b5f2e2",
   "metadata": {},
   "source": [
    "- **R2 (доля объяснённой дисперсии):**\n",
    "    - Лучший результат показал Random Forest (`R2 = 0.466`), худший — Linear Regression (`R2 = 0.280`).\n",
    "    - Линейные модели (Ridge, Lasso) уверенно лучше простой Linear Regression, но уступают ансамблю.\n",
    "\n",
    "- **MAE (средняя абсолютная ошибка):**\n",
    "    - Минимальная ошибка у Random Forest (`MAE = 1.173`), максимальная — Linear Regression (`MAE = 1.375`).\n",
    "\n",
    "- **RMSE (среднеквадратичная ошибка):**\n",
    "    - Лучшая (наименьшая) ошибка у Random Forest (`RMSE = 1.467`), худшая — Linear Regression (`RMSE = 1.702`).\n",
    "\n",
    "**Вывод:**\n",
    "- Random Forest однозначно лучше линейных по всем метрикам, хотя и линейные (особенно Ridge/Lasso) заметно выигрывают у классической линейной регрессии."
   ]
  },
  {
   "cell_type": "markdown",
   "id": "ed95e0cf",
   "metadata": {},
   "source": [
    "**Сохраним модельку для последующего использования**"
   ]
  },
  {
   "cell_type": "code",
   "execution_count": 10,
   "id": "905fc266",
   "metadata": {},
   "outputs": [
    {
     "data": {
      "text/plain": [
       "['models/rf_ic50_model.pkl']"
      ]
     },
     "execution_count": 10,
     "metadata": {},
     "output_type": "execute_result"
    }
   ],
   "source": [
    "import joblib\n",
    "\n",
    "joblib.dump(rf_grid.best_estimator_, 'models/rf_ic50_model.pkl')"
   ]
  }
 ],
 "metadata": {
  "kernelspec": {
   "display_name": ".venv",
   "language": "python",
   "name": "python3"
  },
  "language_info": {
   "codemirror_mode": {
    "name": "ipython",
    "version": 3
   },
   "file_extension": ".py",
   "mimetype": "text/x-python",
   "name": "python",
   "nbconvert_exporter": "python",
   "pygments_lexer": "ipython3",
   "version": "3.11.9"
  }
 },
 "nbformat": 4,
 "nbformat_minor": 5
}
