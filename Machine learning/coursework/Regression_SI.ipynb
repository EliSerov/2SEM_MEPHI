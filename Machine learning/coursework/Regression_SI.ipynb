{
 "cells": [
  {
   "cell_type": "markdown",
   "id": "7076318f",
   "metadata": {},
   "source": [
    "# Пункт 4 #"
   ]
  },
  {
   "cell_type": "markdown",
   "id": "5098c781",
   "metadata": {},
   "source": [
    "**Импорт библиотек**"
   ]
  },
  {
   "cell_type": "code",
   "execution_count": 1,
   "id": "16dfac64",
   "metadata": {},
   "outputs": [
    {
     "name": "stdout",
     "output_type": "stream",
     "text": [
      "(1001, 163)\n",
      "После удаления дубликатов: (969, 163)\n"
     ]
    }
   ],
   "source": [
    "import pandas as pd\n",
    "import numpy as np\n",
    "from sklearn.model_selection import train_test_split\n",
    "from sklearn.linear_model import LinearRegression\n",
    "from sklearn.metrics import r2_score, mean_absolute_error, mean_squared_error\n",
    "\n",
    "df = pd.read_excel('data/course_data_clean_log.xlsx')\n",
    "print(df.shape)\n",
    "df = df.drop_duplicates()\n",
    "print('После удаления дубликатов:', df.shape)"
   ]
  },
  {
   "cell_type": "markdown",
   "id": "8089a143",
   "metadata": {},
   "source": [
    "**Формирование признаков и целевой переменной**"
   ]
  },
  {
   "cell_type": "code",
   "execution_count": 2,
   "id": "8358ccc0",
   "metadata": {},
   "outputs": [],
   "source": [
    "target = 'log_SI'\n",
    "drop_cols = ['IC50, mM', 'CC50, mM', 'SI', 'log_IC50', 'log_CC50', 'log_SI']\n",
    "X = df.drop(columns=drop_cols, errors='ignore')\n",
    "y = df[target]"
   ]
  },
  {
   "cell_type": "markdown",
   "id": "75baf4ff",
   "metadata": {},
   "source": [
    "**Разделение данных на обучающую и тестовую выборки**"
   ]
  },
  {
   "cell_type": "code",
   "execution_count": 3,
   "id": "9b8e583a",
   "metadata": {},
   "outputs": [],
   "source": [
    "X_train, X_test, y_train, y_test = train_test_split(X, y, test_size=0.1, random_state=42)\n",
    "results = {}"
   ]
  },
  {
   "cell_type": "markdown",
   "id": "39dbb434",
   "metadata": {},
   "source": [
    "**Простая линейная регрессия**"
   ]
  },
  {
   "cell_type": "code",
   "execution_count": 4,
   "id": "7bd8814a",
   "metadata": {},
   "outputs": [
    {
     "name": "stdout",
     "output_type": "stream",
     "text": [
      "LinearRegression:\n",
      "R2: 0.011793882201341255\n",
      "MAE: 1.0910361991974327\n",
      "RMSE: 1.5203482229174972\n"
     ]
    }
   ],
   "source": [
    "lr = LinearRegression()\n",
    "lr.fit(X_train, y_train)\n",
    "y_pred = lr.predict(X_test)\n",
    "\n",
    "print('LinearRegression:')\n",
    "print('R2:', r2_score(y_test, y_pred))\n",
    "print('MAE:', mean_absolute_error(y_test, y_pred))\n",
    "print('RMSE:', np.sqrt(mean_squared_error(y_test, y_pred)))\n",
    "\n",
    "results['LinearRegression'] = {\n",
    "    'R2': r2_score(y_test, y_pred),\n",
    "    'MAE': mean_absolute_error(y_test, y_pred),\n",
    "    'RMSE': np.sqrt(mean_squared_error(y_test, y_pred)),\n",
    "}"
   ]
  },
  {
   "cell_type": "markdown",
   "id": "839e98e0",
   "metadata": {},
   "source": [
    "**Подготовка к обучению регуляризованных моделей и Random Forest**"
   ]
  },
  {
   "cell_type": "code",
   "execution_count": 5,
   "id": "7a51cef9",
   "metadata": {},
   "outputs": [],
   "source": [
    "from sklearn.model_selection import GridSearchCV\n",
    "from sklearn.linear_model import Ridge, Lasso\n",
    "from sklearn.ensemble import RandomForestRegressor\n",
    "\n",
    "from sklearn.preprocessing import StandardScaler\n",
    "scaler = StandardScaler()\n",
    "X_train_scaled = scaler.fit_transform(X_train)\n",
    "X_test_scaled = scaler.transform(X_test)"
   ]
  },
  {
   "cell_type": "code",
   "execution_count": 6,
   "id": "23d8c914",
   "metadata": {},
   "outputs": [
    {
     "name": "stdout",
     "output_type": "stream",
     "text": [
      "R2 Ridge: 0.21576317690589386\n",
      "MAE: 1.017460603997778\n",
      "RMSE: 1.35438743757999\n"
     ]
    }
   ],
   "source": [
    "ridge_params = {'alpha': [0.01, 0.1, 1, 10, 100]}\n",
    "ridge = Ridge()\n",
    "ridge_grid = GridSearchCV(ridge, ridge_params, cv=5, scoring='r2', n_jobs=-1)\n",
    "ridge_grid.fit(X_train_scaled, y_train)\n",
    "y_pred = ridge_grid.predict(X_test_scaled)\n",
    "\n",
    "print('R2 Ridge:', r2_score(y_test, y_pred))\n",
    "print('MAE:', mean_absolute_error(y_test, y_pred))\n",
    "print('RMSE:', np.sqrt(mean_squared_error(y_test, y_pred)))\n",
    "\n",
    "results['Ridge'] = {\n",
    "    'R2': r2_score(y_test, y_pred),\n",
    "    'MAE': mean_absolute_error(y_test, y_pred),\n",
    "    'RMSE': np.sqrt(mean_squared_error(y_test, y_pred)),\n",
    "}"
   ]
  },
  {
   "cell_type": "code",
   "execution_count": 7,
   "id": "98044828",
   "metadata": {},
   "outputs": [
    {
     "name": "stdout",
     "output_type": "stream",
     "text": [
      "R2 Lasso: 0.222818551024906\n",
      "MAE: 1.0160344927193734\n",
      "RMSE: 1.3482813106017135\n"
     ]
    }
   ],
   "source": [
    "lasso_params = {'alpha': [0.01, 0.1, 1, 10, 100]}\n",
    "lasso = Lasso(max_iter=5000)\n",
    "lasso_grid = GridSearchCV(lasso, lasso_params, cv=5, scoring='r2', n_jobs=-1)\n",
    "lasso_grid.fit(X_train_scaled, y_train)\n",
    "y_pred = lasso_grid.predict(X_test_scaled)\n",
    "\n",
    "print('R2 Lasso:', r2_score(y_test, y_pred))\n",
    "print('MAE:', mean_absolute_error(y_test, y_pred))\n",
    "print('RMSE:', np.sqrt(mean_squared_error(y_test, y_pred)))\n",
    "\n",
    "results['Lasso'] = {\n",
    "    'R2': r2_score(y_test, y_pred),\n",
    "    'MAE': mean_absolute_error(y_test, y_pred),\n",
    "    'RMSE': np.sqrt(mean_squared_error(y_test, y_pred)),\n",
    "}"
   ]
  },
  {
   "cell_type": "code",
   "execution_count": 8,
   "id": "e24d7519",
   "metadata": {},
   "outputs": [
    {
     "name": "stdout",
     "output_type": "stream",
     "text": [
      "R2 RF: 0.2611636897404378\n",
      "MAE: 0.9395106013294224\n",
      "RMSE: 1.3145993618186038\n"
     ]
    }
   ],
   "source": [
    "rf_params = {\n",
    "    'n_estimators': [100, 200],\n",
    "    'max_depth': [None, 5, 10],\n",
    "    'min_samples_leaf': [1, 3, 5]\n",
    "}\n",
    "rf = RandomForestRegressor(random_state=42)\n",
    "rf_grid = GridSearchCV(rf, rf_params, cv=3, scoring='r2', n_jobs=-1)\n",
    "rf_grid.fit(X_train, y_train)\n",
    "y_pred = rf_grid.predict(X_test)\n",
    "\n",
    "print('R2 RF:', r2_score(y_test, y_pred))\n",
    "print('MAE:', mean_absolute_error(y_test, y_pred))\n",
    "print('RMSE:', np.sqrt(mean_squared_error(y_test, y_pred)))\n",
    "\n",
    "results['RandomForest'] = {\n",
    "    'R2': r2_score(y_test, y_pred),\n",
    "    'MAE': mean_absolute_error(y_test, y_pred),\n",
    "    'RMSE': np.sqrt(mean_squared_error(y_test, y_pred)),\n",
    "}"
   ]
  },
  {
   "cell_type": "markdown",
   "id": "659ea715",
   "metadata": {},
   "source": [
    "**Сравнение моделей по основным метрикам и визуализация**"
   ]
  },
  {
   "cell_type": "code",
   "execution_count": 9,
   "id": "02274f78",
   "metadata": {},
   "outputs": [
    {
     "name": "stderr",
     "output_type": "stream",
     "text": [
      "C:\\Users\\Eli\\AppData\\Local\\Temp\\ipykernel_8240\\154262703.py:13: UserWarning: set_ticklabels() should only be used with a fixed number of ticks, i.e. after set_ticks() or using a FixedLocator.\n",
      "  axes[i].set_xticklabels(df_results.index, rotation=15)\n",
      "C:\\Users\\Eli\\AppData\\Local\\Temp\\ipykernel_8240\\154262703.py:13: UserWarning: set_ticklabels() should only be used with a fixed number of ticks, i.e. after set_ticks() or using a FixedLocator.\n",
      "  axes[i].set_xticklabels(df_results.index, rotation=15)\n",
      "C:\\Users\\Eli\\AppData\\Local\\Temp\\ipykernel_8240\\154262703.py:13: UserWarning: set_ticklabels() should only be used with a fixed number of ticks, i.e. after set_ticks() or using a FixedLocator.\n",
      "  axes[i].set_xticklabels(df_results.index, rotation=15)\n"
     ]
    },
    {
     "data": {
      "image/png": "[encoded data removed]",
      "text/plain": [
       "<Figure size 1500x400 with 3 Axes>"
      ]
     },
     "metadata": {},
     "output_type": "display_data"
    }
   ],
   "source": [
    "import pandas as pd\n",
    "import matplotlib.pyplot as plt\n",
    "\n",
    "df_results = pd.DataFrame(results).T  \n",
    "\n",
    "fig, axes = plt.subplots(1, 3, figsize=(15, 4))\n",
    "metrics = ['R2', 'MAE', 'RMSE']\n",
    "\n",
    "for i, metric in enumerate(metrics):\n",
    "    axes[i].bar(df_results.index, df_results[metric], color='skyblue')\n",
    "    axes[i].set_title(metric)\n",
    "    axes[i].set_ylabel(metric)\n",
    "    axes[i].set_xticklabels(df_results.index, rotation=15)\n",
    "    for x, y in enumerate(df_results[metric]):\n",
    "        axes[i].text(x, y, f\"{y:.3f}\", ha='center', va='bottom', fontsize=10)\n",
    "\n",
    "plt.tight_layout()\n",
    "plt.show()"
   ]
  },
  {
   "cell_type": "markdown",
   "id": "45c068a9",
   "metadata": {},
   "source": [
    "- **R2 (доля объяснённой дисперсии):**\n",
    "    - **Random Forest** показал лучший результат (`R2 = 0.261`), то есть объясняет ~26% дисперсии по SI на тестовой выборке.\n",
    "    - Ridge и Lasso немного уступают (около `0.22`), а LinearRegression практически не даёт прироста (всего `0.012`).\n",
    "\n",
    "- **MAE (средняя абсолютная ошибка):**\n",
    "    - Минимальная MAE у Random Forest (`0.94`), разница между Ridge и Lasso — незначительна, Linear Regression отстаёт.\n",
    "\n",
    "- **RMSE (среднеквадратичная ошибка):**\n",
    "    - Random Forest также даёт наименьший RMSE (`1.315`).\n",
    "    - Линейные модели идут с небольшим отставанием (RMSE ~`1.35`), а Linear Regression опять наихудшая (`1.52`).\n",
    "\n",
    "**Вывод:**\n",
    "- Модель Random Forest явно выигрывает у линейных методов. Это ожидаемо - SI как производная от других целевых переменных, зависящая от сложных структурных и нелинейных взаимодействий. Линейные модели могут не видеть сложных зависимостей даже после логарифмирования."
   ]
  },
  {
   "cell_type": "markdown",
   "id": "4dc84802",
   "metadata": {},
   "source": [
    "# Моделирование SI через предсказания IC50 и CC50 #\n",
    "\n",
    "Рассчитаем SI_pred = CC50_pred / IC50_pred и применим логарифм: log_SI_pred = np.log1p(SI_pred)."
   ]
  },
  {
   "cell_type": "code",
   "execution_count": 10,
   "id": "248d98f2",
   "metadata": {},
   "outputs": [
    {
     "name": "stdout",
     "output_type": "stream",
     "text": [
      "R2: -0.3457291428158864\n",
      "MAE: 1.1724007245462313\n",
      "RMSE: 1.6884503965774997\n"
     ]
    }
   ],
   "source": [
    "import joblib\n",
    "import pandas as pd\n",
    "import numpy as np\n",
    "\n",
    "df = pd.read_excel('data/course_data_clean_log.xlsx')\n",
    "drop_cols = ['IC50, mM', 'CC50, mM', 'SI', 'log_IC50', 'log_CC50', 'log_SI']\n",
    "X = df.drop(columns=drop_cols, errors='ignore')\n",
    "\n",
    "rf_ic50 = joblib.load('models/rf_ic50_model.pkl')\n",
    "lasso_cc50 = joblib.load('models/lasso_cc50.pkl')\n",
    "scaler_cc50 = joblib.load('models/scaler_cc50.pkl')\n",
    "\n",
    "ic50_pred = rf_ic50.predict(X)\n",
    "cc50_pred = lasso_cc50.predict(scaler_cc50.transform(X))\n",
    "\n",
    "si_pred = cc50_pred / ic50_pred\n",
    "log_si_pred = np.log1p(si_pred)\n",
    "\n",
    "y_true = df['log_SI']\n",
    "\n",
    "from sklearn.metrics import r2_score, mean_absolute_error, mean_squared_error\n",
    "\n",
    "print('R2:', r2_score(y_true, log_si_pred))\n",
    "print('MAE:', mean_absolute_error(y_true, log_si_pred))\n",
    "print('RMSE:', np.sqrt(mean_squared_error(y_true, log_si_pred)))\n"
   ]
  },
  {
   "cell_type": "markdown",
   "id": "9f514890",
   "metadata": {},
   "source": [
    "Качество хуже, чем у прямой регрессии: отрицательный R² говорит о том, что модель даже хуже простого предсказания среднего значения по выборке.\n",
    "\n",
    "Это возможно из-за того, что ошибка накапливается: при делении двух предсказаний любая ошибка в одной модели усиливает итоговую ошибку."
   ]
  }
 ],
 "metadata": {
  "kernelspec": {
   "display_name": ".venv",
   "language": "python",
   "name": "python3"
  },
  "language_info": {
   "codemirror_mode": {
    "name": "ipython",
    "version": 3
   },
   "file_extension": ".py",
   "mimetype": "text/x-python",
   "name": "python",
   "nbconvert_exporter": "python",
   "pygments_lexer": "ipython3",
   "version": "3.11.9"
  }
 },
 "nbformat": 4,
 "nbformat_minor": 5
}
