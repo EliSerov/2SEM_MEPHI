{
 "cells": [
  {
   "cell_type": "markdown",
   "id": "db996650",
   "metadata": {},
   "source": [
    "# Пункт 3 #"
   ]
  },
  {
   "cell_type": "markdown",
   "id": "a1e674a3",
   "metadata": {},
   "source": [
    "**Импорт библиотек**"
   ]
  },
  {
   "cell_type": "code",
   "execution_count": 1,
   "id": "16dfac64",
   "metadata": {},
   "outputs": [
    {
     "name": "stdout",
     "output_type": "stream",
     "text": [
      "(1001, 163)\n",
      "После удаления дубликатов: (969, 163)\n"
     ]
    }
   ],
   "source": [
    "import pandas as pd\n",
    "import numpy as np\n",
    "from sklearn.model_selection import train_test_split\n",
    "from sklearn.linear_model import LinearRegression\n",
    "from sklearn.metrics import r2_score, mean_absolute_error, mean_squared_error\n",
    "\n",
    "df = pd.read_excel('data/course_data_clean_log.xlsx')\n",
    "print(df.shape)\n",
    "df = df.drop_duplicates()\n",
    "print('После удаления дубликатов:', df.shape)"
   ]
  },
  {
   "cell_type": "markdown",
   "id": "7a39f93f",
   "metadata": {},
   "source": [
    "**Формирование признаков и целевой переменной**"
   ]
  },
  {
   "cell_type": "code",
   "execution_count": 2,
   "id": "8358ccc0",
   "metadata": {},
   "outputs": [],
   "source": [
    "target = 'log_CC50'\n",
    "drop_cols = ['IC50, mM', 'CC50, mM', 'SI', 'log_IC50', 'log_CC50', 'log_SI']\n",
    "X = df.drop(columns=drop_cols, errors='ignore')\n",
    "y = df[target]"
   ]
  },
  {
   "cell_type": "markdown",
   "id": "ee3d022f",
   "metadata": {},
   "source": [
    "**Разделение данных на обучающую и тестовую выборки**"
   ]
  },
  {
   "cell_type": "code",
   "execution_count": 3,
   "id": "9b8e583a",
   "metadata": {},
   "outputs": [],
   "source": [
    "X_train, X_test, y_train, y_test = train_test_split(X, y, test_size=0.1, random_state=42)\n",
    "results = {}"
   ]
  },
  {
   "cell_type": "markdown",
   "id": "548fc590",
   "metadata": {},
   "source": [
    "**Простая линейная регрессия**"
   ]
  },
  {
   "cell_type": "code",
   "execution_count": 4,
   "id": "7bd8814a",
   "metadata": {},
   "outputs": [
    {
     "name": "stdout",
     "output_type": "stream",
     "text": [
      "LinearRegression:\n",
      "R2: 0.2930230549805074\n",
      "MAE: 1.088697306822798\n",
      "RMSE: 1.4839468794407331\n"
     ]
    }
   ],
   "source": [
    "lr = LinearRegression()\n",
    "lr.fit(X_train, y_train)\n",
    "y_pred = lr.predict(X_test)\n",
    "\n",
    "print('LinearRegression:')\n",
    "print('R2:', r2_score(y_test, y_pred))\n",
    "print('MAE:', mean_absolute_error(y_test, y_pred))\n",
    "print('RMSE:', np.sqrt(mean_squared_error(y_test, y_pred)))\n",
    "\n",
    "results['LinearRegression'] = {\n",
    "    'R2': r2_score(y_test, y_pred),\n",
    "    'MAE': mean_absolute_error(y_test, y_pred),\n",
    "    'RMSE': np.sqrt(mean_squared_error(y_test, y_pred)),\n",
    "}"
   ]
  },
  {
   "cell_type": "markdown",
   "id": "420ead51",
   "metadata": {},
   "source": [
    "**Подготовка к обучению регуляризованных моделей и Random Forest**"
   ]
  },
  {
   "cell_type": "code",
   "execution_count": 5,
   "id": "7a51cef9",
   "metadata": {},
   "outputs": [],
   "source": [
    "from sklearn.model_selection import GridSearchCV\n",
    "from sklearn.linear_model import Ridge, Lasso\n",
    "from sklearn.ensemble import RandomForestRegressor\n",
    "\n",
    "from sklearn.preprocessing import StandardScaler\n",
    "scaler = StandardScaler()\n",
    "X_train_scaled = scaler.fit_transform(X_train)\n",
    "X_test_scaled = scaler.transform(X_test)"
   ]
  },
  {
   "cell_type": "code",
   "execution_count": 6,
   "id": "23d8c914",
   "metadata": {},
   "outputs": [
    {
     "name": "stdout",
     "output_type": "stream",
     "text": [
      "R2 Ridge: 0.3037406296074011\n",
      "MAE: 1.0918975223676373\n",
      "RMSE: 1.4726558118642672\n"
     ]
    }
   ],
   "source": [
    "ridge_params = {'alpha': [0.01, 0.1, 1, 10, 100]}\n",
    "ridge = Ridge()\n",
    "ridge_grid = GridSearchCV(ridge, ridge_params, cv=5, scoring='r2', n_jobs=-1)\n",
    "ridge_grid.fit(X_train_scaled, y_train)\n",
    "y_pred = ridge_grid.predict(X_test_scaled)\n",
    "\n",
    "print('R2 Ridge:', r2_score(y_test, y_pred))\n",
    "print('MAE:', mean_absolute_error(y_test, y_pred))\n",
    "print('RMSE:', np.sqrt(mean_squared_error(y_test, y_pred)))\n",
    "\n",
    "results['Ridge'] = {\n",
    "    'R2': r2_score(y_test, y_pred),\n",
    "    'MAE': mean_absolute_error(y_test, y_pred),\n",
    "    'RMSE': np.sqrt(mean_squared_error(y_test, y_pred)),\n",
    "}"
   ]
  },
  {
   "cell_type": "code",
   "execution_count": 7,
   "id": "98044828",
   "metadata": {},
   "outputs": [
    {
     "name": "stdout",
     "output_type": "stream",
     "text": [
      "R2 Lasso: 0.3154941389744259\n",
      "MAE: 1.0684402825571588\n",
      "RMSE: 1.4601730035523663\n"
     ]
    }
   ],
   "source": [
    "lasso_params = {'alpha': [0.01, 0.1, 1, 10, 100]}\n",
    "lasso = Lasso(max_iter=5000)\n",
    "lasso_grid = GridSearchCV(lasso, lasso_params, cv=5, scoring='r2', n_jobs=-1)\n",
    "lasso_grid.fit(X_train_scaled, y_train)\n",
    "y_pred = lasso_grid.predict(X_test_scaled)\n",
    "\n",
    "print('R2 Lasso:', r2_score(y_test, y_pred))\n",
    "print('MAE:', mean_absolute_error(y_test, y_pred))\n",
    "print('RMSE:', np.sqrt(mean_squared_error(y_test, y_pred)))\n",
    "\n",
    "results['Lasso'] = {\n",
    "    'R2': r2_score(y_test, y_pred),\n",
    "    'MAE': mean_absolute_error(y_test, y_pred),\n",
    "    'RMSE': np.sqrt(mean_squared_error(y_test, y_pred)),\n",
    "}"
   ]
  },
  {
   "cell_type": "code",
   "execution_count": 8,
   "id": "e24d7519",
   "metadata": {},
   "outputs": [
    {
     "name": "stdout",
     "output_type": "stream",
     "text": [
      "R2 RF: 0.2871217539481494\n",
      "MAE: 1.032283635613169\n",
      "RMSE: 1.4901274335284265\n"
     ]
    }
   ],
   "source": [
    "rf_params = {\n",
    "    'n_estimators': [100, 200],\n",
    "    'max_depth': [None, 5, 10],\n",
    "    'min_samples_leaf': [1, 3, 5]\n",
    "}\n",
    "rf = RandomForestRegressor(random_state=42)\n",
    "rf_grid = GridSearchCV(rf, rf_params, cv=3, scoring='r2', n_jobs=-1)\n",
    "rf_grid.fit(X_train, y_train)\n",
    "y_pred = rf_grid.predict(X_test)\n",
    "\n",
    "print('R2 RF:', r2_score(y_test, y_pred))\n",
    "print('MAE:', mean_absolute_error(y_test, y_pred))\n",
    "print('RMSE:', np.sqrt(mean_squared_error(y_test, y_pred)))\n",
    "\n",
    "results['RandomForest'] = {\n",
    "    'R2': r2_score(y_test, y_pred),\n",
    "    'MAE': mean_absolute_error(y_test, y_pred),\n",
    "    'RMSE': np.sqrt(mean_squared_error(y_test, y_pred)),\n",
    "}"
   ]
  },
  {
   "cell_type": "markdown",
   "id": "889584c7",
   "metadata": {},
   "source": [
    "**Сравнение моделей по основным метрикам и визуализация**"
   ]
  },
  {
   "cell_type": "code",
   "execution_count": 9,
   "id": "02274f78",
   "metadata": {},
   "outputs": [
    {
     "name": "stderr",
     "output_type": "stream",
     "text": [
      "C:\\Users\\Eli\\AppData\\Local\\Temp\\ipykernel_9592\\154262703.py:13: UserWarning: set_ticklabels() should only be used with a fixed number of ticks, i.e. after set_ticks() or using a FixedLocator.\n",
      "  axes[i].set_xticklabels(df_results.index, rotation=15)\n",
      "C:\\Users\\Eli\\AppData\\Local\\Temp\\ipykernel_9592\\154262703.py:13: UserWarning: set_ticklabels() should only be used with a fixed number of ticks, i.e. after set_ticks() or using a FixedLocator.\n",
      "  axes[i].set_xticklabels(df_results.index, rotation=15)\n",
      "C:\\Users\\Eli\\AppData\\Local\\Temp\\ipykernel_9592\\154262703.py:13: UserWarning: set_ticklabels() should only be used with a fixed number of ticks, i.e. after set_ticks() or using a FixedLocator.\n",
      "  axes[i].set_xticklabels(df_results.index, rotation=15)\n"
     ]
    },
    {
     "data": {
      "image/png": "[encoded data removed]",
      "text/plain": [
       "<Figure size 1500x400 with 3 Axes>"
      ]
     },
     "metadata": {},
     "output_type": "display_data"
    }
   ],
   "source": [
    "import pandas as pd\n",
    "import matplotlib.pyplot as plt\n",
    "\n",
    "df_results = pd.DataFrame(results).T  \n",
    "\n",
    "fig, axes = plt.subplots(1, 3, figsize=(15, 4))\n",
    "metrics = ['R2', 'MAE', 'RMSE']\n",
    "\n",
    "for i, metric in enumerate(metrics):\n",
    "    axes[i].bar(df_results.index, df_results[metric], color='skyblue')\n",
    "    axes[i].set_title(metric)\n",
    "    axes[i].set_ylabel(metric)\n",
    "    axes[i].set_xticklabels(df_results.index, rotation=15)\n",
    "    for x, y in enumerate(df_results[metric]):\n",
    "        axes[i].text(x, y, f\"{y:.3f}\", ha='center', va='bottom', fontsize=10)\n",
    "\n",
    "plt.tight_layout()\n",
    "plt.show()"
   ]
  },
  {
   "cell_type": "markdown",
   "id": "b7bd8f69",
   "metadata": {},
   "source": [
    "- **R2 (доля объяснённой дисперсии):**\n",
    "    - Наилучший результат у Lasso (`R2 = 0.315`), остальные модели близки между собой (`R2 ≈ 0.29–0.30`).\n",
    "    - Random Forest на этот раз чуть уступает линейным моделям, что может указывать на более линейную зависимость признаков для данной задачи.\n",
    "\n",
    "- **MAE (средняя абсолютная ошибка):**\n",
    "    - Минимальная MAE — Random Forest (`1.032`), далее идут Lasso и Linear Regression. Отличие между моделями невелико.\n",
    "\n",
    "- **RMSE (среднеквадратичная ошибка):**\n",
    "    - Лучшая (наименьшая) ошибка — у Lasso (`1.460`), разница между моделями крайне мала (разброс RMSE от `1.460` до `1.490`).\n",
    "\n",
    "**Вывод:**\n",
    "- Все четыре модели показывают схожее качество, ни одна явно не доминирует.\n",
    "- Lasso Regression немного выигрывает по R2 и RMSE, но разница с Random Forest минимальна.\n",
    "- Random Forest показывает лучшую MAE, но по остальным метрикам — на уровне линейных моделей.\n",
    "- Для CC50 задача проще поддаётся линейным моделям, но значимого выигрыша ни одна из моделей не даёт.\n",
    "- Примем за лучшую модель Lasso\n"
   ]
  },
  {
   "cell_type": "markdown",
   "id": "72e8f224",
   "metadata": {},
   "source": [
    "**Сохраним модельку и scaler для последующего использования**"
   ]
  },
  {
   "cell_type": "code",
   "execution_count": 10,
   "id": "d5617c10",
   "metadata": {},
   "outputs": [
    {
     "data": {
      "text/plain": [
       "['models/scaler_cc50.pkl']"
      ]
     },
     "execution_count": 10,
     "metadata": {},
     "output_type": "execute_result"
    }
   ],
   "source": [
    "import joblib\n",
    "\n",
    "joblib.dump(lasso_grid.best_estimator_, 'models/lasso_cc50.pkl')\n",
    "joblib.dump(scaler, 'models/scaler_cc50.pkl')"
   ]
  }
 ],
 "metadata": {
  "kernelspec": {
   "display_name": ".venv",
   "language": "python",
   "name": "python3"
  },
  "language_info": {
   "codemirror_mode": {
    "name": "ipython",
    "version": 3
   },
   "file_extension": ".py",
   "mimetype": "text/x-python",
   "name": "python",
   "nbconvert_exporter": "python",
   "pygments_lexer": "ipython3",
   "version": "3.11.9"
  }
 },
 "nbformat": 4,
 "nbformat_minor": 5
}
